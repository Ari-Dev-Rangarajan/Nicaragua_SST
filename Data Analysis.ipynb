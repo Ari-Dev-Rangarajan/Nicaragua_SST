{
 "cells": [
  {
   "cell_type": "markdown",
   "metadata": {},
   "source": [
    "To run this code, you first have to establish an anaconda environment, ensure you have the relevant interpreters/languages/libraries downloaded, and ensure that the names of the relevant .csv files on your comptuer/server match those on the code."
   ]
  },
  {
   "cell_type": "markdown",
   "metadata": {},
   "source": [
    "First, we will import the pandas data analytics library, as well as the pre and post SST raw survey data. We will also create a global `resuts` data frame to hold all of our metrics."
   ]
  },
  {
   "cell_type": "code",
   "execution_count": 123,
   "metadata": {},
   "outputs": [],
   "source": [
    "import pandas as pd\n",
    "pre_sst_responses = pd.read_csv('C:\\\\Users\\\\arira\\\\OneDrive\\\\Desktop\\\\Better Work\\\\Nicaragua Project\\\\CSV Files\\\\Raw Data\\\\Pre SST questions_August 25, 2022_12.46.csv')\n",
    "post_sst_responses = pd.read_csv('C:\\\\Users\\\\arira\\\\OneDrive\\\\Desktop\\\\Better Work\\\\Nicaragua Project\\\\CSV Files\\\\Raw Data\\\\Post SST questions_August 25, 2022_12.47.csv')\n",
    "results = pd.DataFrame(columns = ['Metric','Value'])"
   ]
  },
  {
   "cell_type": "markdown",
   "metadata": {},
   "source": [
    "In order to ensure that the pre and post SST data stays alligned and is analyzed uniformly, we need to do this analysis via two primary functions: a `clean` function that prepares both response sets for analysis, and an `analyze` function that takes these two cleaned data sets and calculates our desired metrics. "
   ]
  },
  {
   "cell_type": "markdown",
   "metadata": {},
   "source": [
    "First, we will define the `clean` function. In this function, we need to restructure the data slightly to allow for more flexible analysis."
   ]
  },
  {
   "cell_type": "code",
   "execution_count": 124,
   "metadata": {},
   "outputs": [],
   "source": [
    "def clean(df):\n",
    "\n",
    "    df = df.fillna(0)\n",
    "\n",
    "    for x in range(0,2):\n",
    "        df.drop(x, axis=0, inplace=True)\n",
    "    df = df.reset_index()\n",
    "    df.drop('index',axis=1,inplace=True)\n",
    "\n",
    "    for y in range(2,5):\n",
    "        for x in range(len(df['Q9_1'])):\n",
    "            df.loc[int(x),'Q9_1'] = int(df.loc[int(x),'Q9_1']) + y*int(df.loc[int(x), 'Q9_' + str(y)])\n",
    "        df.drop('Q9_' + str(y), axis = 1, inplace=True)\n",
    "    df.rename({'Q9_1': 'Q9'}, axis=1, inplace=True)\n",
    "\n",
    "    for y in range(1,9):\n",
    "        for x in range(len(df['Q3_9'])):\n",
    "            if df.loc[x,'Q3_9'] == 1:\n",
    "                df.loc[int(x),'Q3_'+ str(y)] = 1\n",
    "    df.drop('Q3_9', axis=1, inplace=True)\n",
    "\n",
    "    for z in range(1,7):\n",
    "        for y in range(2,6):\n",
    "            for x in range(len(df['Q4_' + str(z) + '_' + str(y)])):\n",
    "                if df.loc[int(x),'Q4_' + str(z) + '_1'] == 0:\n",
    "                    df.loc[int(x),'Q4_' + str(z) + '_1'] = int(df.loc[int(x),'Q4_' + str(z) + '_1']) + y*int(df.loc[int(x), 'Q4_' + str(z) + '_' + str(y)])\n",
    "            df.drop('Q4_' + str(z) + '_' + str(y), axis = 1, inplace=True)\n",
    "        df.rename({'Q4_' + str(z) + '_1': 'Q4_' + str(z)}, axis=1, inplace=True)\n",
    "\n",
    "    df['Q8'] = df['Q8'].astype('int')\n",
    "    df['StartDate'] = pd.to_datetime(df['StartDate'])\n",
    "\n",
    "    return df"
   ]
  },
  {
   "cell_type": "markdown",
   "metadata": {},
   "source": [
    "Next, we will create the `analyze` function. Due to its complexity, it will be composed of a few subfunctions where neccesary."
   ]
  },
  {
   "cell_type": "code",
   "execution_count": 125,
   "metadata": {},
   "outputs": [],
   "source": [
    "def analyze(pre_df, post_df):\n",
    "\n",
    "    metrics = ['pre_total_respondents','post_total_respondents','pre_production_worker', 'pre_non_production_worker', 'pre_supervisor', 'pre_administrative/management','post_production_worker', 'post_non_production_worker', 'post_supervisor', 'post_administrative/management', 'pre_women', 'pre_men', 'pre_prefer_not_to_say', 'post_women','post_men', 'post_prefer_not_to_say', 'change_supervisory_responsibility_1', 'change_supervisory_responsibility_2', 'change_supervisory_responsibility_3', 'change_supervisory_responsibility_4', 'change_supervisory_responsibility_5', 'change_supervisory_responsibility_6', 'change_supervisory_responsibility_7', 'change_supervisory_responsibility_average','change_supervisory_responsibility_production_worker', 'change_supervisory_responsibility_non_production_worker', 'change_supervisory_responsibility_supervisor', 'change_supervisory_responsibility_administrative/management', 'pre_objective_identification_1', 'pre_objective_identification_2', 'pre_objective_identification_3', 'pre_objective_identification_4', 'pre_objective_identification_5', 'post_objective_identification_1', 'post_objective_identification_2', 'post_objective_identification_3', 'post_objective_identification_4', 'post_objective_identification_5','change_correct_objective_identification_production_worker', 'change_correct_objective_identification_non_production_worker', 'change_correct_objective_identification_supervisor', 'change_correct_objective_identification_administrative/management', 'change_correct_objective_identification_average', 'change_recognition_harrassment_1', 'change_recognition_harrassment_2', 'change_recognition_harrassment_3', 'change_recognition_harrassment_4', 'change_recognition_harrassment_5', 'change_recognition_harrassment_6', 'change_recognition_harrassment_7', 'change_recognition_harrassment_8', 'change_recognition_harrassment_average', 'change_recognition_harrassment_production_worker', 'change_recognition_harrassment_non_production_worker', 'change_recognition_harrassment_supervisor', 'change_recognition_harrassment_administrative/management', 'change_recognition_harrassment_women', 'change_recognition_harrassment_men', 'pre_practice_agreement_1_production_worker', 'pre_practice_agreement_2_production_worker','pre_practice_agreement_3_production_worker','pre_practice_agreement_4_production_worker','pre_practice_agreement_5_production_worker', 'pre_practice_agreement_1_non_production_worker', 'pre_practice_agreement_2_non_production_worker','pre_practice_agreement_3_non_production_worker','pre_practice_agreement_4_non_production_worker','pre_practice_agreement_5_non_production_worker', 'pre_practice_agreement_1_supervisor', 'pre_practice_agreement_2_supervisor','pre_practice_agreement_3_supervisor','pre_practice_agreement_4_supervisor','pre_practice_agreement_5_supervisor', 'pre_practice_agreement_1_administrative/management', 'pre_practice_agreement_2_administrative/management','pre_practice_agreement_3_administrative/management','pre_practice_agreement_4_administrative/management','pre_practice_agreement_5_administrative/management', 'post_practice_agreement_1_production_worker', 'post_practice_agreement_2_production_worker','post_practice_agreement_3_production_worker','post_practice_agreement_4_production_worker','post_practice_agreement_5_production_worker', 'post_practice_agreement_1_non_production_worker', 'post_practice_agreement_2_non_production_worker','post_practice_agreement_3_non_production_worker','post_practice_agreement_4_non_production_worker','post_practice_agreement_5_non_production_worker', 'post_practice_agreement_1_supervisor', 'post_practice_agreement_2_supervisor','post_practice_agreement_3_supervisor','post_practice_agreement_4_supervisor','post_practice_agreement_5_supervisor', 'post_practice_agreement_1_administrative/management', 'post_practice_agreement_2_administrative/management','post_practice_agreement_3_administrative/management','post_practice_agreement_4_administrative/management','post_practice_agreement_5_administrative/management', 'change_practice_agreement', 'pre_gender_discrimination', 'post_gender_discrimination', 'change_gender_discrimination','change_gender_discrimination_women','change_gender_discrimination_men', 'change_gender_discrimination_general', 'change_gender_discrimination_gender_specific']\n",
    "    metrics = pd.Series(metrics)\n",
    "    results['Metric'] = metrics\n",
    "    results['Value'] = float(0)\n",
    "    \n",
    "    results.loc[0,'Value'] = len(pre_df.index)\n",
    "    results.loc[1,'Value'] = len(post_df.index)\n",
    "\n",
    "    pre_df_production_worker_only = pre_df.loc[pre_df['Q9'] == 1]\n",
    "    pre_df_non_production_worker_only = pre_df.loc[pre_df['Q9'] == 2]\n",
    "    pre_df_supervisor_only = pre_df.loc[pre_df['Q9'] == 3]\n",
    "    pre_df_administrative_and_management_only = pre_df.loc[pre_df['Q9'] == 4]\n",
    "    \n",
    "    results.loc[2, 'Value'] = len(pre_df_production_worker_only.index)\n",
    "    results.loc[3, 'Value'] = len(pre_df_non_production_worker_only.index)\n",
    "    results.loc[4, 'Value'] = len(pre_df_supervisor_only.index)\n",
    "    results.loc[5, 'Value'] = len(pre_df_administrative_and_management_only.index)\n",
    "\n",
    "    post_df_production_worker_only = post_df.loc[post_df['Q9'] == 1]\n",
    "    post_df_non_production_worker_only = post_df.loc[post_df['Q9'] == 2]\n",
    "    post_df_supervisor_only = post_df.loc[post_df['Q9'] == 3]\n",
    "    post_df_administrative_and_management_only = post_df.loc[post_df['Q9'] == 4]\n",
    "    \n",
    "    results.loc[6, 'Value'] = len(post_df_production_worker_only.index)\n",
    "    results.loc[7, 'Value'] = len(post_df_non_production_worker_only.index)\n",
    "    results.loc[8, 'Value'] = len(post_df_supervisor_only.index)\n",
    "    results.loc[9, 'Value'] = len(post_df_administrative_and_management_only.index)\n",
    "\n",
    "    pre_df_women_only = pre_df.loc[pre_df['Q8'] == 1]\n",
    "    pre_df_men_only = pre_df.loc[pre_df['Q8'] == 2]\n",
    "    pre_df_prefer_not_to_say_only = pre_df.loc[pre_df['Q8'] == 3]\n",
    "\n",
    "    results.loc[10, 'Value'] = len(pre_df_women_only.index)\n",
    "    results.loc[11, 'Value'] = len(pre_df_men_only.index)\n",
    "    results.loc[12, 'Value'] = len(pre_df_prefer_not_to_say_only.index)\n",
    "\n",
    "    post_df_women_only = post_df.loc[post_df['Q8'] == 1]\n",
    "    post_df_men_only = post_df.loc[post_df['Q8'] == 2]\n",
    "    post_df_prefer_not_to_say_only = post_df.loc[post_df['Q8'] == 3]\n",
    "\n",
    "    results.loc[13, 'Value'] = len(post_df_women_only.index)\n",
    "    results.loc[14, 'Value'] = len(post_df_men_only.index)\n",
    "    results.loc[15, 'Value'] = len(post_df_prefer_not_to_say_only.index)\n",
    "    \n",
    "    pre_df_general = pre_df.loc[pre_df['StartDate'].dt.month == 5]\n",
    "    pre_df_gender_specific = pre_df.loc[pre_df['StartDate'].dt.month == 4]\n",
    "\n",
    "    post_df_general = post_df.loc[post_df['StartDate'].dt.month == 5]\n",
    "    post_df_gender_specific = post_df.loc[post_df['StartDate'].dt.month == 4]\n",
    "\n",
    "    total = 0\n",
    "    for x in range(1,8):\n",
    "        change = change_supervisory_responsibility(pre_df, post_df, 'Q1_'+str(x))\n",
    "        results.loc[x+15, 'Value'] = round(change,2)\n",
    "        total = total + change\n",
    "    average = total/7\n",
    "    results.loc[23, 'Value'] = round(average,2)\n",
    "\n",
    "    total = 0\n",
    "    for x in range(1,8):\n",
    "        change = change_supervisory_responsibility(pre_df_production_worker_only, post_df_production_worker_only, 'Q1_'+str(x))\n",
    "        total = total + change\n",
    "    average = total/7\n",
    "    results.loc[24, 'Value'] = round(average,2)\n",
    "\n",
    "    total = 0\n",
    "    for x in range(1,8):\n",
    "        change = change_supervisory_responsibility(pre_df_non_production_worker_only, post_df_non_production_worker_only, 'Q1_'+str(x))\n",
    "        total = total + change\n",
    "    average = total/7\n",
    "    results.loc[25, 'Value'] = round(average,2)\n",
    "\n",
    "    total = 0\n",
    "    for x in range(1,8):\n",
    "        change = change_supervisory_responsibility(pre_df_supervisor_only, post_df_supervisor_only, 'Q1_'+str(x))\n",
    "        total = total + change\n",
    "    average = total/7\n",
    "    results.loc[26, 'Value'] = round(average,2)\n",
    "\n",
    "    total = 0\n",
    "    for x in range(1,8):\n",
    "        change = change_supervisory_responsibility(pre_df_administrative_and_management_only, post_df_administrative_and_management_only, 'Q1_'+str(x))\n",
    "        total = total + change\n",
    "    average = total/7\n",
    "    results.loc[27, 'Value'] = round(average,2)\n",
    "    \n",
    "    count(pre_df, 'Q2', 5, 27)\n",
    "    count(post_df, 'Q2', 5, 32)\n",
    "    \n",
    "    results.loc[38,'Value'] = round(change_correct_count(pre_df_production_worker_only,post_df_production_worker_only, 'Q2',5), 2)\n",
    "    results.loc[39,'Value'] = round(change_correct_count(pre_df_non_production_worker_only,post_df_non_production_worker_only, 'Q2',5), 2)\n",
    "    results.loc[40,'Value'] = round(change_correct_count(pre_df_supervisor_only,post_df_supervisor_only, 'Q2',5), 2)\n",
    "    results.loc[41,'Value'] = round(change_correct_count(pre_df_administrative_and_management_only,post_df_administrative_and_management_only, 'Q2',5), 2)\n",
    "    results.loc[42,'Value'] = round(change_correct_count(pre_df,post_df, 'Q2',5), 2)\n",
    "\n",
    "    change_harrassment_recognition(pre_df,post_df,'Q3',1,8,42,False)\n",
    "    change_harrassment_recognition(pre_df,post_df,'Q3',1,8,51,True)\n",
    "    change_harrassment_recognition(pre_df_production_worker_only,post_df_production_worker_only,'Q3',1,8,52,True)\n",
    "    change_harrassment_recognition(pre_df_non_production_worker_only,post_df_non_production_worker_only,'Q3',1,8,53,True)\n",
    "    change_harrassment_recognition(pre_df_supervisor_only,post_df_supervisor_only,'Q3',1,8,54,True)\n",
    "    change_harrassment_recognition(pre_df_administrative_and_management_only,post_df_administrative_and_management_only,'Q3',1,8,55,True)\n",
    "    change_harrassment_recognition(pre_df_women_only,post_df_women_only,'Q3',1,8,56,True)\n",
    "    change_harrassment_recognition(pre_df_men_only,post_df_women_only,'Q3',1,8,57,True)\n",
    "\n",
    "    practice_agreement(pre_df_production_worker_only,'Q4',5,57)\n",
    "    practice_agreement(pre_df_non_production_worker_only,'Q4',5,62)\n",
    "    practice_agreement(pre_df_supervisor_only,'Q4',5,67)\n",
    "    practice_agreement(pre_df_administrative_and_management_only,'Q4',5,72)\n",
    "    \n",
    "    practice_agreement(post_df_production_worker_only,'Q4',5,77)\n",
    "    practice_agreement(post_df_non_production_worker_only,'Q4',5,82)\n",
    "    practice_agreement(post_df_supervisor_only,'Q4',5,87)\n",
    "    practice_agreement(post_df_administrative_and_management_only,'Q4',5,92)\n",
    "\n",
    "    change_pracice_agreement(pre_df,post_df,'Q4',5,98)\n",
    "    \n",
    "    results.loc[99, 'Value'] = round(gender_discrimination(pre_df, 'Q5', 'Q6', 10), 2)\n",
    "    results.loc[100, 'Value'] = round(gender_discrimination(post_df, 'Q5', 'Q6', 10),2)\n",
    "\n",
    "    results.loc[101,'Value'] = round(change_gender_discrimination(pre_df, post_df, 'Q5', 'Q6',10), 2)\n",
    "    results.loc[102,'Value'] = round(change_gender_discrimination(pre_df_women_only, post_df_women_only, 'Q5', 'Q6',10), 2)\n",
    "    results.loc[103,'Value'] = round(change_gender_discrimination(pre_df_men_only, post_df_men_only, 'Q5', 'Q6',10), 2)\n",
    "    \n",
    "    results.loc[104,'Value'] = round(change_gender_discrimination(pre_df_general, post_df_general, 'Q5', 'Q6',10), 2)\n",
    "    results.loc[105,'Value'] = round(change_gender_discrimination(pre_df_gender_specific, post_df_gender_specific, 'Q5', 'Q6',10), 2)\n",
    "    \n",
    "    return results"
   ]
  },
  {
   "cell_type": "markdown",
   "metadata": {},
   "source": [
    "Now we must define the various calculation functions we have used above to perform our analysis."
   ]
  },
  {
   "cell_type": "code",
   "execution_count": 126,
   "metadata": {},
   "outputs": [],
   "source": [
    "def change_supervisory_responsibility(pre_df, post_df, question):\n",
    "   pre_supervisory_responsibility = float(0)\n",
    "   post_supervisory_responsibility = float(0)\n",
    "   for x in pre_df.index:\n",
    "      if float(pre_df.loc[x, question]) == float(1): \n",
    "         pre_supervisory_responsibility = pre_supervisory_responsibility + 1\n",
    "   for x in post_df.index:\n",
    "      if float(post_df.loc[x, question]) == float(1): \n",
    "         post_supervisory_responsibility = post_supervisory_responsibility + 1\n",
    "   if pre_supervisory_responsibility == float(0):\n",
    "      return float(0)\n",
    "   if post_supervisory_responsibility == float(0):\n",
    "      return float(0)\n",
    "   change = 100*((post_supervisory_responsibility/len(post_df.index))/(pre_supervisory_responsibility/len(pre_df.index))-1)\n",
    "   return change"
   ]
  },
  {
   "cell_type": "code",
   "execution_count": 127,
   "metadata": {},
   "outputs": [],
   "source": [
    "def count(df, question, domain_max, start_index):\n",
    "    for x in range(1, domain_max+1):\n",
    "        count=0\n",
    "        for y in df.index:\n",
    "            if float(df.loc[y, question + '_' + str(x)]) == float(1):\n",
    "                count = count + 1\n",
    "        count = 100*(count/len(df.index))\n",
    "        results.loc[start_index+x, 'Value'] = round(count, 2)\n",
    "    return count"
   ]
  },
  {
   "cell_type": "code",
   "execution_count": 128,
   "metadata": {},
   "outputs": [],
   "source": [
    "def change_correct_count(pre_df, post_df, question, domain_max):\n",
    "    change_counting_var = float(0)\n",
    "    for x in range(1, domain_max+1):\n",
    "        pre_adjusted_count = float(0)\n",
    "        post_adjusted_count = float(0)\n",
    "        pre_count=0\n",
    "        for y in pre_df.index:\n",
    "            if float(pre_df.loc[y, question + '_' + str(x)]) == float(1):\n",
    "                pre_count = pre_count + 1\n",
    "        pre_adjusted_count = pre_count/len(pre_df.index)\n",
    "        post_count=0\n",
    "        for y in post_df.index:\n",
    "            if float(post_df.loc[y, question + '_' + str(x)]) == float(1):\n",
    "                post_count = post_count + 1\n",
    "        post_adjusted_count = post_count/len(post_df.index)\n",
    "        if pre_adjusted_count != 0:\n",
    "            change_counting_var = change_counting_var + abs(post_adjusted_count/pre_adjusted_count-1)\n",
    "    change = 100*(change_counting_var/domain_max)\n",
    "    return change"
   ]
  },
  {
   "cell_type": "code",
   "execution_count": 129,
   "metadata": {},
   "outputs": [],
   "source": [
    "def change_harrassment_recognition(pre_df, post_df, question, domain_min, domain_max, start_index, average_true_false):\n",
    "    change_counting_var = float(0)\n",
    "    change = float(0)\n",
    "    average_change = float(0)\n",
    "    for x in range(domain_min, domain_max+1):\n",
    "        pre_count= pre_df[str(question + '_' + str(x))].astype('int').mean()\n",
    "        post_count=post_df[str(question + '_' + str(x))].astype('int').mean()\n",
    "        if pre_count != 0:\n",
    "            change = 100*(post_count/pre_count - 1)\n",
    "        else:\n",
    "            change = 0\n",
    "        change_counting_var = change_counting_var + change\n",
    "        if average_true_false == False:\n",
    "            results.loc[start_index+x, 'Value'] = round(change,2)    \n",
    "    if average_true_false == True:\n",
    "        average_change = change_counting_var/domain_max\n",
    "        results.loc[start_index, 'Value'] = round(average_change, 2)\n",
    "    return average_change"
   ]
  },
  {
   "cell_type": "code",
   "execution_count": 130,
   "metadata": {},
   "outputs": [],
   "source": [
    "def practice_agreement(df,question,subquestion_count,start_index_exclusive):\n",
    "        for x in range(1,subquestion_count+1):\n",
    "            average_agreement = df[str(question + '_' + str(x))].astype('int').mean()\n",
    "            results.loc[start_index_exclusive + x, 'Value'] = round(average_agreement,2)\n",
    "        return average_agreement\n",
    "\n"
   ]
  },
  {
   "cell_type": "code",
   "execution_count": 131,
   "metadata": {},
   "outputs": [],
   "source": [
    "def change_pracice_agreement(pre_df, post_df, question,subquestion_count,start_index_exclusive):\n",
    "    counting_var = float(0)\n",
    "    for x in range(1,subquestion_count+1):\n",
    "        pre_average_agreement = pre_df[str(question + '_' + str(x))].astype('int').mean()\n",
    "        post_average_agreement = post_df[str(question + '_' + str(x))].astype('int').mean()\n",
    "        counting_var = counting_var + 100*abs((post_average_agreement/pre_average_agreement) - 1)\n",
    "    change_average_agreement = counting_var/subquestion_count\n",
    "    results.loc[start_index_exclusive,'Value'] = round(change_average_agreement,2)\n",
    "    return change_average_agreement\n",
    "        "
   ]
  },
  {
   "cell_type": "code",
   "execution_count": 132,
   "metadata": {},
   "outputs": [],
   "source": [
    "def gender_discrimination(df,q_female, q_male, subquestion_count):\n",
    "    counting_var = float(0)\n",
    "    for x in range(1,subquestion_count+1):\n",
    "        female_count = df[str(q_female + '_' + str(x))].astype('int').sum()\n",
    "        male_count = df[str(q_male + '_' + str(x))].astype('int').sum()\n",
    "        if male_count != int(0):\n",
    "            counting_var = counting_var + 100*abs(female_count/male_count-1)\n",
    "    overall_discrimination = counting_var/subquestion_count\n",
    "    return overall_discrimination\n"
   ]
  },
  {
   "cell_type": "code",
   "execution_count": 133,
   "metadata": {},
   "outputs": [],
   "source": [
    "def change_gender_discrimination(pre_df, post_df, q_female, q_male, subquestion_count):\n",
    "    pre_discrimination = gender_discrimination(pre_df, q_female, q_male, subquestion_count)\n",
    "    post_discrimination = gender_discrimination(post_df, q_female, q_male, subquestion_count)\n",
    "    change = 100*(post_discrimination/pre_discrimination - 1)\n",
    "    return change\n"
   ]
  },
  {
   "cell_type": "markdown",
   "metadata": {},
   "source": [
    "Now we run the code!"
   ]
  },
  {
   "cell_type": "code",
   "execution_count": 134,
   "metadata": {},
   "outputs": [],
   "source": [
    "report = analyze(clean(pre_sst_responses), clean(post_sst_responses))\n",
    "report.to_csv('C:\\\\Users\\\\arira\\\\OneDrive\\\\Desktop\\\\Better Work\\\\Nicaragua Project\\\\CSV Files\\\\Report.csv', index=True)\n",
    "\n"
   ]
  }
 ],
 "metadata": {
  "kernelspec": {
   "display_name": "Python 3.9.13 ('Dasra': conda)",
   "language": "python",
   "name": "python3"
  },
  "language_info": {
   "codemirror_mode": {
    "name": "ipython",
    "version": 3
   },
   "file_extension": ".py",
   "mimetype": "text/x-python",
   "name": "python",
   "nbconvert_exporter": "python",
   "pygments_lexer": "ipython3",
   "version": "3.9.13"
  },
  "orig_nbformat": 4,
  "vscode": {
   "interpreter": {
    "hash": "8f88da2da9c1f7a6f622385e85de0298a6f3b227f467a5ea8fc9281ed39ea8d1"
   }
  }
 },
 "nbformat": 4,
 "nbformat_minor": 2
}
